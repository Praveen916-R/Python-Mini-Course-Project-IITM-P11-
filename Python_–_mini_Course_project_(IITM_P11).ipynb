{
  "nbformat": 4,
  "nbformat_minor": 0,
  "metadata": {
    "colab": {
      "provenance": []
    },
    "kernelspec": {
      "name": "python3",
      "display_name": "Python 3"
    },
    "language_info": {
      "name": "python"
    }
  },
  "cells": [
    {
      "cell_type": "markdown",
      "source": [
        "**1.Write a program to find out the prime numbers**"
      ],
      "metadata": {
        "id": "YrYYaPHKxQL9"
      }
    },
    {
      "cell_type": "code",
      "execution_count": null,
      "metadata": {
        "id": "s56IYNmGwKcB"
      },
      "outputs": [],
      "source": [
        "9num = int(input(\"Enter the number: \"))\n",
        "flag=0\n",
        "if num > 1:\n",
        "    for i in range(2,num):\n",
        "        if (num % i) == 0:\n",
        "            flag=1\n",
        "            break\n",
        "    if flag==1:\n",
        "        print(num, \" is not a prime number\")\n",
        "    else:\n",
        "        print(num, \" is a prime number\")\n",
        "else:\n",
        "    print(num, \" is not a prime number\")"
      ]
    },
    {
      "cell_type": "markdown",
      "source": [
        "**2.write a program to create the equation (a+b+c) *  (a-b-c) * ab + a^2 + b ^2 + (abc)^3**"
      ],
      "metadata": {
        "id": "ZOOVmOdSQMAd"
      }
    },
    {
      "cell_type": "code",
      "source": [
        "a = int(input(\"Enter value of a: \")) \n",
        "b = int(input(\"Enter value of b: \")) \n",
        "c = int(input(\"Enter value of c: \")) \n",
        "\n",
        "# Calculating the equation\n",
        "result = (a + b + c)*(a - b - c)*a*b + a**2 + b**2 + (a*b*c)**3\n",
        "\n",
        "print(\"The result of the equation (a+b+c) * (a-b-c) * ab + a^2 + b ^2 + (abc)^3 is:\", result)"
      ],
      "metadata": {
        "id": "TTzdEJmHQLr-"
      },
      "execution_count": null,
      "outputs": []
    },
    {
      "cell_type": "markdown",
      "source": [
        "**3. urlist = ['wood','knife','axe'] , mylist = ['tree', 'apple', 'mango', 'melon'] – combine two lists**"
      ],
      "metadata": {
        "id": "rXQY_yZGxgQC"
      }
    },
    {
      "cell_type": "code",
      "source": [
        "urlist = ['wood','knife','axe']\n",
        "mylist = ['tree', 'apple', 'mango', 'melon']\n",
        "lst= urlist + mylist\n",
        "print(lst)"
      ],
      "metadata": {
        "id": "-LkJJPvJxsHC"
      },
      "execution_count": null,
      "outputs": []
    },
    {
      "cell_type": "markdown",
      "source": [
        "**4.write a program for natural number based on user input**"
      ],
      "metadata": {
        "id": "GLv-iV9M0bTI"
      }
    },
    {
      "cell_type": "code",
      "source": [
        "num = int(input(\"Enter a number: \"))  \n",
        "  \n",
        "if num <= 0:  \n",
        "   print(\"NOT A NATURAL NAUMBER\")  \n",
        "else:  \n",
        "   if num > 0:\n",
        "      print(\"it is a natural number\")"
      ],
      "metadata": {
        "id": "Z4sGi-Js0dBJ"
      },
      "execution_count": null,
      "outputs": []
    },
    {
      "cell_type": "markdown",
      "source": [
        "**5.write class and function for the equation sqrt(x1-x2) ^ 2 + sqrt( y1 – y2 ) ^2 using try except handling**"
      ],
      "metadata": {
        "id": "leq8gF5rTWM9"
      }
    },
    {
      "cell_type": "code",
      "source": [
        "class Point:\n",
        "    def __init__(self, x1, x2, y1, y2):\n",
        "        self.x1 = x1\n",
        "        self.x2 = x2\n",
        "        self.y1 = y1\n",
        "        self.y2 = y2\n",
        "\n",
        "def distance_between_points(point):\n",
        "    try:\n",
        "        dist = math.sqrt((point.x1 - point.x2)**2 + (point.y1 - point.y2)**2)\n",
        "        return dist\n",
        "    except Exception as e:\n",
        "        print(e)\n",
        "        return None"
      ],
      "metadata": {
        "id": "FjOGCFy5TV7A"
      },
      "execution_count": null,
      "outputs": []
    },
    {
      "cell_type": "markdown",
      "source": [
        "**6. Name  = “Guvi python”  - write a program to get “python” word from the string**"
      ],
      "metadata": {
        "id": "rbH2rRC84NoM"
      }
    },
    {
      "cell_type": "code",
      "source": [
        "test_str = input()\n",
        "print(\"The original string is : \" + test_str)\n",
        "x = test_str.split()\n",
        "res=\" \".join(x[1:])\n",
        "print(\"The string after omitting first word is : \" + str(res))"
      ],
      "metadata": {
        "id": "mBt334RZ4MSn"
      },
      "execution_count": null,
      "outputs": []
    },
    {
      "cell_type": "markdown",
      "source": [
        "**7.Using class and function - Write a program for palindrome Ex. Madam**"
      ],
      "metadata": {
        "id": "Fjs1SWJs5mge"
      }
    },
    {
      "cell_type": "code",
      "source": [
        "def isPalindrome(s):\n",
        "    return s == s[::-1]\n",
        "s = \"madam\"\n",
        "ans = isPalindrome(s)\n",
        " \n",
        "if ans:\n",
        "    print(\"Yes\")\n",
        "else:\n",
        "    print(\"No\")"
      ],
      "metadata": {
        "id": "HCH_qacW5rEI"
      },
      "execution_count": null,
      "outputs": []
    },
    {
      "cell_type": "markdown",
      "source": [
        "**8.using file handling – write a text file in ur system with “hello world” in python**"
      ],
      "metadata": {
        "id": "0mmd6npFT_zo"
      }
    },
    {
      "cell_type": "code",
      "source": [
        "file = open(\"textfile.txt\",\"w\") \n",
        "file.write(\"hello world\") \n",
        "file.close()"
      ],
      "metadata": {
        "id": "RZ-Lej6ST_gK"
      },
      "execution_count": null,
      "outputs": []
    },
    {
      "cell_type": "markdown",
      "source": [
        "**9.create option button using tkinter GUI in python**"
      ],
      "metadata": {
        "id": "dCflVk7Jyb1o"
      }
    },
    {
      "cell_type": "code",
      "source": [
        "from tkinter import *\n",
        "\n",
        "root = Tk()\n",
        "\n",
        "v = IntVar()\n",
        "\n",
        "Radiobutton(root, text=\"Option 1\", variable=v, value=1).pack(anchor=W)\n",
        "Radiobutton(root, text=\"Option 2\", variable=v, value=2).pack(anchor=W)\n",
        "\n",
        "mainloop()"
      ],
      "metadata": {
        "id": "6b3nAzGLyddm"
      },
      "execution_count": null,
      "outputs": []
    },
    {
      "cell_type": "markdown",
      "source": [
        "**10.Keep only numbers from the following string x = “ 89e9jcd^o38829@3%3,/mkl$w1”**"
      ],
      "metadata": {
        "id": "-eIsEcx5y0yd"
      }
    },
    {
      "cell_type": "code",
      "source": [
        "x = \"89e9jcd^o38829@3%3,/mkl$w1\"\n",
        "for i in x:\n",
        "    if i.isnumeric():\n",
        "        print(i, end='')"
      ],
      "metadata": {
        "id": "qe5vQh8Py2Lq"
      },
      "execution_count": null,
      "outputs": []
    }
  ]
}